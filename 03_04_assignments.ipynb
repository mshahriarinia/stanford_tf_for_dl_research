{
 "cells": [
  {
   "cell_type": "code",
   "execution_count": 1,
   "metadata": {
    "collapsed": true
   },
   "outputs": [],
   "source": [
    "\"\"\"\n",
    "Simple TensorFlow exercises\n",
    "You should thoroughly test your code\n",
    "\"\"\"\n",
    "\n",
    "import tensorflow as tf"
   ]
  },
  {
   "cell_type": "code",
   "execution_count": 17,
   "metadata": {},
   "outputs": [
    {
     "name": "stdout",
     "output_type": "stream",
     "text": [
      "x: 0.0674189 y: 0.0713508 out:-0.00393188\n",
      "x: 0.397833 y: 0.602141 out:-0.204309\n",
      "x: 0.967798 y: 0.643884 out:1.61168\n",
      "x: 0.149837 y: 0.909428 out:-0.759591\n",
      "x: 0.51837 y: 0.0574369 out:0.575807\n",
      "x: 0.985109 y: 0.447765 out:1.43287\n",
      "x: 0.759983 y: 0.0174751 out:0.777458\n",
      "x: 0.919152 y: 0.949174 out:-0.0300213\n",
      "x: 0.215723 y: 0.981157 out:-0.765434\n",
      "x: 0.118153 y: 0.612784 out:-0.494631\n"
     ]
    }
   ],
   "source": [
    "###############################################################################\n",
    "# 1a: Create two random 0-d tensors x and y of any distribution.\n",
    "# Create a TensorFlow object that returns x + y if x > y, and x - y otherwise.\n",
    "# Hint: look up tf.cond()\n",
    "# I do the first problem for you\n",
    "###############################################################################\n",
    "\n",
    "x = tf.random_uniform([])  # Empty array as shape creates a scalar.\n",
    "y = tf.random_uniform([])\n",
    "out = tf.cond(tf.greater(x, y), lambda: tf.add(x, y), lambda: tf.subtract(x, y))\n",
    "\n",
    "# TEST CODE\n",
    "with tf.Session() as sess:\n",
    "    sess.run(tf.global_variables_initializer())\n",
    "    \n",
    "    for _ in range(10):\n",
    "        x_val, y_val, out_val = sess.run([x, y, out])\n",
    "        print(\"x: \" + str(x_val) + \" y: \" + str(y_val) + \" out:\" + str(out_val))"
   ]
  },
  {
   "cell_type": "code",
   "execution_count": 28,
   "metadata": {},
   "outputs": [
    {
     "name": "stdout",
     "output_type": "stream",
     "text": [
      "WARNING:tensorflow:case: An unordered dictionary of predicate/fn pairs was provided, but exclusive=False. The order of conditional tests is deterministic but not guaranteed.\n",
      "x: -0.538596 y: 0.253665 out:-0.284932\n",
      "x: -0.333677 y: 0.408515 out:0.0748386\n",
      "x: 0.929746 y: -0.322962 out:1.25271\n",
      "x: -0.450885 y: 0.0716937 out:-0.379191\n",
      "x: -0.75695 y: 0.355552 out:-0.401398\n",
      "x: 0.266743 y: -0.764539 out:1.03128\n",
      "x: -0.968509 y: -0.518639 out:-1.48715\n",
      "x: 0.369821 y: -0.20265 out:0.572472\n",
      "x: -0.574389 y: -0.811326 out:0.236937\n",
      "x: 0.365041 y: -0.0100532 out:0.375094\n"
     ]
    }
   ],
   "source": [
    "###############################################################################\n",
    "# 1b: Create two 0-d tensors x and y randomly selected from the range [-1, 1).\n",
    "# Return x + y if x < y, x - y if x > y, 0 otherwise.\n",
    "# Hint: Look up tf.case().\n",
    "###############################################################################\n",
    "x = tf.random_uniform([], minval=-1, maxval=1)\n",
    "y = tf.random_uniform([], minval=-1, maxval=1)\n",
    "f1 = lambda: tf.add(x, y)\n",
    "f2 = lambda: tf.subtract(x, y)\n",
    "f3 = lambda: tf.constant(0.0)\n",
    "out = tf.case({tf.less(x, y): f1, tf.greater(x, y): f2}, default=f3)\n",
    "\n",
    "# TEST CODE\n",
    "with tf.Session() as sess:\n",
    "    sess.run(tf.global_variables_initializer())\n",
    "    \n",
    "    for _ in range(10):\n",
    "        x_val, y_val, out_val = sess.run([x, y, out])\n",
    "        print(\"x: \" + str(x_val) + \" y: \" + str(y_val) + \" out:\" + str(out_val))"
   ]
  },
  {
   "cell_type": "code",
   "execution_count": 31,
   "metadata": {},
   "outputs": [
    {
     "name": "stdout",
     "output_type": "stream",
     "text": [
      " out:[array([[ True, False, False],\n",
      "       [ True, False, False]], dtype=bool)]\n"
     ]
    }
   ],
   "source": [
    "###############################################################################\n",
    "# 1c: Create the tensor x of the value [[0, -2, -1], [0, 1, 2]] \n",
    "# and y as a tensor of zeros with the same shape as x.\n",
    "# Return a boolean tensor that yields Trues if x equals y element-wise.\n",
    "# Hint: Look up tf.equal().\n",
    "###############################################################################\n",
    "\n",
    "X = tf.constant([[0, -2, -1], [0, 1, 2]] )\n",
    "Y = tf.zeros_like(X)\n",
    "out = tf.equal(x=X, y=Y)\n",
    "\n",
    "with tf.Session() as sess:    \n",
    "    out_val = sess.run([out])\n",
    "    print(\" out:\" + str(out_val))"
   ]
  },
  {
   "cell_type": "code",
   "execution_count": 40,
   "metadata": {},
   "outputs": [
    {
     "name": "stdout",
     "output_type": "stream",
     "text": [
      " out:[array([[ 31.19073486],\n",
      "       [ 30.97266006],\n",
      "       [ 38.08450317],\n",
      "       [ 34.94445419],\n",
      "       [ 34.45999146],\n",
      "       [ 36.01657104],\n",
      "       [ 30.20379066],\n",
      "       [ 33.71149445],\n",
      "       [ 36.05556488]], dtype=float32)]\n"
     ]
    }
   ],
   "source": [
    "###############################################################################\n",
    "# 1d: Create the tensor x of value \n",
    "# [29.05088806,  27.61298943,  31.19073486,  29.35532951,\n",
    "#  30.97266006,  26.67541885,  38.08450317,  20.74983215,\n",
    "#  34.94445419,  34.45999146,  29.06485367,  36.01657104,\n",
    "#  27.88236427,  20.56035233,  30.20379066,  29.51215172,\n",
    "#  33.71149445,  28.59134293,  36.05556488,  28.66994858].\n",
    "# Get the indices of elements in x whose values are greater than 30.\n",
    "# Hint: Use tf.where().\n",
    "# Then extract elements whose values are greater than 30.\n",
    "# Hint: Use tf.gather().\n",
    "###############################################################################\n",
    "\n",
    "X = tf.constant([29.05088806,  27.61298943,  31.19073486,  29.35532951,\n",
    "  30.97266006,  26.67541885,  38.08450317,  20.74983215,\n",
    "  34.94445419,  34.45999146,  29.06485367,  36.01657104,\n",
    "  27.88236427,  20.56035233,  30.20379066,  29.51215172,\n",
    "  33.71149445,  28.59134293,  36.05556488,  28.66994858])\n",
    "\n",
    "out = tf.gather(X, tf.where(tf.greater(X, 30)))\n",
    "\n",
    "with tf.Session() as sess:    \n",
    "    out_val = sess.run([out])\n",
    "    print(\" out:\" + str(out_val))"
   ]
  },
  {
   "cell_type": "code",
   "execution_count": 42,
   "metadata": {},
   "outputs": [
    {
     "name": "stdout",
     "output_type": "stream",
     "text": [
      " out:[array([[2, 0, 0, 0, 0],\n",
      "       [0, 3, 0, 0, 0],\n",
      "       [0, 0, 4, 0, 0],\n",
      "       [0, 0, 0, 5, 0],\n",
      "       [0, 0, 0, 0, 6]], dtype=int32)]\n"
     ]
    }
   ],
   "source": [
    "###############################################################################\n",
    "# 1e: Create a diagnoal 2-d tensor of size 6 x 6 with the diagonal values of 1,\n",
    "# 2, ..., 6\n",
    "# Hint: Use tf.range() and tf.diag().\n",
    "###############################################################################\n",
    "\n",
    "r = tf.range(2,7)\n",
    "out = tf.diag(diagonal=r)\n",
    "\n",
    "with tf.Session() as sess:    \n",
    "    out_val = sess.run([out])\n",
    "    print(\" out:\" + str(out_val))\n"
   ]
  },
  {
   "cell_type": "code",
   "execution_count": 45,
   "metadata": {},
   "outputs": [
    {
     "name": "stdout",
     "output_type": "stream",
     "text": [
      " out:[5052.8198]\n"
     ]
    }
   ],
   "source": [
    "###############################################################################\n",
    "# 1f: Create a random 2-d tensor of size 10 x 10 from any distribution.\n",
    "# Calculate its determinant.\n",
    "# Hint: Look at tf.matrix_determinant().\n",
    "###############################################################################\n",
    "\n",
    "X = tf.random_normal(shape=[10, 10], mean=10, stddev=1)\n",
    "out = tf.matrix_determinant(X)\n",
    "\n",
    "with tf.Session() as sess:    \n",
    "    out_val = sess.run([out])\n",
    "    print(\" out:\" + str(out_val))\n"
   ]
  },
  {
   "cell_type": "code",
   "execution_count": 47,
   "metadata": {},
   "outputs": [
    {
     "name": "stdout",
     "output_type": "stream",
     "text": [
      " out:[ 5  2  3 10  6  4  1  0  9]\n"
     ]
    }
   ],
   "source": [
    "###############################################################################\n",
    "# 1g: Create tensor x with value [5, 2, 3, 5, 10, 6, 2, 3, 4, 2, 1, 1, 0, 9].\n",
    "# Return the unique elements in x\n",
    "# Hint: use tf.unique(). Keep in mind that tf.unique() returns a tuple.\n",
    "###############################################################################\n",
    "\n",
    "X = tf.constant([5, 2, 3, 5, 10, 6, 2, 3, 4, 2, 1, 1, 0, 9])\n",
    "unique_values, _ = tf.unique(X)\n",
    "\n",
    "with tf.Session() as sess:    \n",
    "    unique_values_val,  = sess.run([unique_values])\n",
    "    print(\" out:\" + str(unique_values_val))"
   ]
  },
  {
   "cell_type": "code",
   "execution_count": 53,
   "metadata": {},
   "outputs": [
    {
     "name": "stdout",
     "output_type": "stream",
     "text": [
      " out:339.536\n"
     ]
    }
   ],
   "source": [
    "###############################################################################\n",
    "# 1h: Create two tensors x and y of shape 300 from any normal distribution,\n",
    "# as long as they are from the same distribution.\n",
    "# Use tf.cond() to return:\n",
    "# - The mean squared error of (x - y) if the average of all elements in (x - y)\n",
    "#   is negative, or\n",
    "# - The sum of absolute value of all elements in the tensor (x - y) otherwise.\n",
    "# Hint: see the Huber loss function in the lecture slides 3.\n",
    "###############################################################################\n",
    "\n",
    "X = tf.random_normal(shape=[300], mean=0, stddev=1)\n",
    "Y = tf.random_normal(shape=[300], mean=0, stddev=1)\n",
    "X_Y = tf.subtract(X, Y)\n",
    "avg = tf.reduce_mean(X_Y)\n",
    "f1 = lambda: tf.reduce_mean(tf.pow(X_Y, 2))\n",
    "f2 = lambda: tf.reduce_sum(tf.abs(X_Y))\n",
    "out = tf.cond(tf.less(avg, 0), f1, f2)\n",
    "\n",
    "with tf.Session() as sess:    \n",
    "    out_val,  = sess.run([out])\n",
    "    print(\" out:\" + str(out_val))"
   ]
  }
 ],
 "metadata": {
  "kernelspec": {
   "display_name": "Python 2",
   "language": "python",
   "name": "python2"
  },
  "language_info": {
   "codemirror_mode": {
    "name": "ipython",
    "version": 2
   },
   "file_extension": ".py",
   "mimetype": "text/x-python",
   "name": "python",
   "nbconvert_exporter": "python",
   "pygments_lexer": "ipython2",
   "version": "2.7.12"
  }
 },
 "nbformat": 4,
 "nbformat_minor": 2
}
