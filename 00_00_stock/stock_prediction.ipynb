{
 "cells": [
  {
   "cell_type": "markdown",
   "metadata": {},
   "source": [
    "# Stock Analysis\n",
    "\n",
    "__Problem Definition:__  Due to the complexity and dependency on multiple market factors, it is very difficult to predict the dynamic Stock Market performance. But the explosion of market data and market news from multiple sources and the advancement in machine learning (ML) show a great promise to effectively predict its performance. To prove the promise, this study is to predict and validate the returns from 5 stocks (any 5 of your choice).   \n",
    "\n",
    "__Answer:__ Understanding the inner workings of stock market by just looking at only 5 stocks and no other side information is not possible:\n",
    "\n",
    "- If this would have been possible, plenty of people would have figured that out throughout the past centuries (two centuries since NYSE has been founded). And figuring out that correlation would mean the disruption of the correlation. \n",
    "\n",
    "- We don't have access to any market news information and all we have is the reflection of the news on stocks prices. Therefore, we can't draw causal relations between causes and effects between what has happened in the market.\n",
    "\n",
    "- We are limited to only 5 stocks. So the choice of which stocks is also important. I picked the stocks for the companies that I am most familiar with and seem to be on the right track:\n",
    "  - FB (Facebook)\n",
    "  - GOOG (Alphabet)\n",
    "  - BIDU (Baidu) \n",
    "  - APPL (Apple)\n",
    "  - NVDA (Nvidia)\n",
    " \n",
    " This is a highly biased sample of the companies. Generally it is recommended that you have a diverse portfolio so that the volatility in your basket is reduced. Unfortunately I am not familiar with companies in other fields such as finance, pharmeceutical, energy, education, etc. Given my very limited knowledge of the stock market I would rather not place bets based on my gut feelings.\n",
    "\n",
    "All difficulties aside, let's look into the data and see what's in there."
   ]
  },
  {
   "cell_type": "code",
   "execution_count": null,
   "metadata": {
    "collapsed": true
   },
   "outputs": [],
   "source": [
    "## Obtaining the Data\n",
    "To obtain the data for the aforementioned stock symbols, I went to "
   ]
  },
  {
   "cell_type": "markdown",
   "metadata": {},
   "source": [
    "## Visualize\n",
    "\n",
    "Let's visualize the performances over time"
   ]
  },
  {
   "cell_type": "markdown",
   "metadata": {},
   "source": [
    "1. Are there patterns that will explain noise, normal, and unusual market conditions? Can you apply any unsupervised ML techniques to support this?\n"
   ]
  },
  {
   "cell_type": "markdown",
   "metadata": {},
   "source": [
    "Answer: "
   ]
  },
  {
   "cell_type": "code",
   "execution_count": null,
   "metadata": {
    "collapsed": true
   },
   "outputs": [],
   "source": [
    "\n",
    "\n",
    "2.      Can you identify and explain the possible market factors by using statistical and machine learning techniques?\n",
    "\n",
    "3.      Is it possible to develop‎ a predictive model to predict the returns from the stocks? If possible,\n",
    "\n",
    "a.       What are the possible features and algorithms you would consider (please provide reasoning)?\n",
    "\n",
    "b.      Can you develop/test/validate an end to end predictive model?\n",
    "\n",
    "c.       Can you explain the predictions?\n",
    "\n",
    "4.      What are the lessons you have learned from this study?"
   ]
  }
 ],
 "metadata": {
  "kernelspec": {
   "display_name": "Python 2",
   "language": "python",
   "name": "python2"
  },
  "language_info": {
   "codemirror_mode": {
    "name": "ipython",
    "version": 2
   },
   "file_extension": ".py",
   "mimetype": "text/x-python",
   "name": "python",
   "nbconvert_exporter": "python",
   "pygments_lexer": "ipython2",
   "version": "2.7.12"
  }
 },
 "nbformat": 4,
 "nbformat_minor": 2
}
