{
 "cells": [
  {
   "attachments": {},
   "cell_type": "markdown",
   "metadata": {},
   "source": [
    "Original idea comes from paper: \"Learning Phrase Representations using RNN Encoder-Decoder for Statistical Machine Translation\"\n",
    "\n",
    "Encode and decode RNNs (Often GRU or LSTM is used)\n",
    "\n",
    "## Sequence to Sequence\n",
    "\n",
    "Consists of two recurrent neural networks (RNNs):\n",
    "1. Encoder maps a variable-length source sequence (input) to a fixed-length vector\n",
    "2. Decoder maps the vector representation back to a variable-length target sequence (output)\n",
    "\n",
    "Two RNNs are trained jointly to maximize the conditional probability of the target sequence given a source sequence\n",
    "\n",
    "<img src=\"img/encoder_decoder.png\" alt=\"Drawing\" style=\"width: 300px;\"/>\n",
    "\n",
    "<img src=\"img/encoder_decoder_en2de.png\" alt=\"Drawing\" style=\"width: 600px;\"/>\n",
    "\n",
    "<img src=\"img/encoder_decoder_attention.png\" alt=\"Drawing\" style=\"width: 600px;\"/>\n"
   ]
  },
  {
   "cell_type": "code",
   "execution_count": null,
   "metadata": {
    "collapsed": true
   },
   "outputs": [],
   "source": [
    "### Bucketing\n",
    "\n",
    "- Avoid too much padding that leads to extraneous computation\n",
    "- Group sequences of similar lengths into the same buckets\n",
    "- Create a separate subgraph for each bucket\n",
    "- In theory, can use for v1.0:\n",
    "\n",
    "      tf.contrib.training.bucket_by_sequence_length(max_length,\n",
    "      examples, batch_size, bucket_boundaries, capacity=2 *\n",
    "      batch_size, dynamic_pad=True)\n",
    "\n",
    "- In practice, use the bucketing algorithm used in TensorFlow’s\n",
    "translate model (because we’re using v0.12)"
   ]
  }
 ],
 "metadata": {
  "kernelspec": {
   "display_name": "Python 2",
   "language": "python",
   "name": "python2"
  },
  "language_info": {
   "codemirror_mode": {
    "name": "ipython",
    "version": 2
   },
   "file_extension": ".py",
   "mimetype": "text/x-python",
   "name": "python",
   "nbconvert_exporter": "python",
   "pygments_lexer": "ipython2",
   "version": "2.7.12"
  }
 },
 "nbformat": 4,
 "nbformat_minor": 2
}
