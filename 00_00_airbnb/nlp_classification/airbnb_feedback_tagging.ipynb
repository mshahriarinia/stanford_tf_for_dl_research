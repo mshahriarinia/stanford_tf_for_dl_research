{
 "cells": [
  {
   "cell_type": "markdown",
   "metadata": {},
   "source": [
    "\n",
    "### hints\n",
    "- multi-labeling\n",
    "- self normalizing networks\n",
    "- early stopping\n",
    "- Calibration buckets\n",
    "- use tags's title's word embeddigns as input signal\n",
    "- split long feedback to multiple records and after splitting tokens of a long sequence merge their labeling probabilities into one.\n",
    "- create tokens for special placeholders\n",
    "- bucket batches based on different seq lengths to save on computation\n",
    "\n",
    "## Tasks\n",
    "- Run an analysis on the dataset and provide descriptive statistics for the data\n",
    "- Perform data cleaning, selection and splitting if needed\n",
    "- Build one or more models to tag a new feedback with a relevant tag or tags using only feedback text\n",
    "- Show how you evaluate, compare and improve your models\n",
    "- Identify if using other features (provided in the dataset) in combination with the feedback text is helpful\n",
    "- Identify howyou would use your model and findings to improve Airbnb's feedback module by writing out specific recommendations\n"
   ]
  },
  {
   "cell_type": "markdown",
   "metadata": {},
   "source": [
    "# Airbnb Feedback Labeling\n",
    "\n",
    "## Problem statement\n",
    "Airbnb has a platform for taking feedback from its users (https://www.airbnb.com/help/feedback). Identifying the proper team that should handle each feedback is cruicial in sustaining customers and organic user growth. Given a feedback statement and some other features, we would like to identify the associated team."
   ]
  },
  {
   "cell_type": "markdown",
   "metadata": {},
   "source": [
    "## Understanding the Data\n"
   ]
  },
  {
   "cell_type": "code",
   "execution_count": 1,
   "metadata": {
    "collapsed": true
   },
   "outputs": [],
   "source": [
    "# imports and constants\n",
    "%matplotlib inline  \n",
    "\n",
    "import csv\n",
    "import matplotlib.pyplot as plt\n",
    "import numpy as np\n",
    "import re"
   ]
  },
  {
   "cell_type": "markdown",
   "metadata": {},
   "source": [
    "### Load the dataset"
   ]
  },
  {
   "cell_type": "code",
   "execution_count": 2,
   "metadata": {},
   "outputs": [
    {
     "name": "stdout",
     "output_type": "stream",
     "text": [
      "There is a total of 8949 records in this dataset.\n"
     ]
    }
   ],
   "source": [
    "with open('NLP_TakeHome_Feedbacks.csv', 'rb') as csvfile:\n",
    "    csvReader = csv.reader(csvfile, delimiter=',', quotechar='\"')\n",
    "    dataList = list(csvReader)\n",
    "\n",
    "reqUserAgentList = []\n",
    "countryList = []\n",
    "isAppOrWebList = []\n",
    "deviceTypeList = []\n",
    "dsList = []\n",
    "tagsList = []\n",
    "feedbackList = []\n",
    "\n",
    "for i in range(1, len(dataList)):\n",
    "    # skip record id field\n",
    "    reqUserAgentList.append(dataList[i][1])\n",
    "    countryList.append(dataList[i][2])\n",
    "    isAppOrWebList.append(dataList[i][3])\n",
    "    deviceTypeList.append(dataList[i][4])\n",
    "    dsList.append(dataList[i][5])\n",
    "    tagsList.append(dataList[i][6])\n",
    "    feedbackList.append(dataList[i][7])\n",
    "\n",
    "dataListLength = len(dataList) - 1 # skipped header row\n",
    "print('There is a total of ' + str(dataListLength) + ' records in this dataset.')"
   ]
  },
  {
   "cell_type": "markdown",
   "metadata": {},
   "source": [
    "### Identify types of tags"
   ]
  },
  {
   "cell_type": "code",
   "execution_count": 30,
   "metadata": {},
   "outputs": [
    {
     "name": "stdout",
     "output_type": "stream",
     "text": [
      "All togethere, there are 621 types of tags!\n",
      "90.02% of all the Tags have less than 10 instances, and the remaining 9.98% of Tag types have more than 10 instances\n",
      "\n",
      "For the scope of this project, to make computations tractable, we focus on Tag types with instances more than 10. The rest of the Tags would be converted to type UNKNOWN. List of Tag Types with instances more than 10 is as follows:\n",
      "\n",
      "After replacing outlier tags we have 63 tags:\n",
      "\n",
      "{'Block calendar': 71, 'Calendar availability': 238, 'Guest cancellation': 224, 'Terms and conditions': 146, 'Review': 771, 'Manage listing': 228, 'Finding a place': 29, 'Damage': 208, 'Managing my calendar / Calendar settings': 17, 'Co-hosting': 45, 'Paying for my trip': 21, 'Other': 18, 'Location': 160, 'Special offer': 99, 'Multi-calendar': 46, 'My account or profile': 27, 'Mobile app': 730, 'Booking': 1003, 'Activate listing': 191, 'Search results': 254, 'Sharing': 143, 'Nightly price': 159, 'Getting paid': 27, 'Guest onboarding': 126, 'Calendar sync': 44, 'Host cancellation': 457, 'Cancel request': 476, 'Notifications': 191, 'Managing my calendar / Blocking or unblocking calendar dates': 36, 'Booking a trip': 18, 'Address': 100, 'UNKNOWN_TAG_TYPE': 685, 'Superhost': 151, 'Account': 383, 'Guidebooks': 38, 'Language': 57, 'Additional guest fee': 130, 'Smart pricing': 174, 'Price breakdown': 131, 'Checkout time': 23, 'Taxes': 77, 'Cleaning fee': 80, 'Reviews': 59, 'Duplicate account': 79, 'Weekly pricing': 58, 'Accidental booking': 116, 'Messaging': 244, 'Referral': 125, 'Unblock calendar': 110, 'Description': 135, 'Refund': 675, 'Managing my calendar / Something else': 58, 'Payouts': 290, 'Reference': 116, 'Coupon': 229, 'Getting help': 593, 'Currency': 123, 'Cancellation policy': 365, 'Pricing': 339, 'Setting availability': 238, 'Calendar': 138, 'Trust': 458, 'Verification': 456}\n"
     ]
    }
   ],
   "source": [
    "tagTypes = {}\n",
    "regex = re.compile(r'\\{\\{([^\\}]*)\\}\\}')\n",
    "\n",
    "def getTagTypes(tagsList):\n",
    "    tagTypes = {}\n",
    "    for s in tagsList:\n",
    "        lst = re.split(' \\| ', s)\n",
    "        for k in lst:\n",
    "            if not tagTypes.has_key(k):\n",
    "                tagTypes[k] = 1\n",
    "            else:\n",
    "                tagTypes[k] = tagTypes[k] + 1\n",
    "    return tagTypes\n",
    "\n",
    "tagTypes = getTagTypes(tagsList)\n",
    "\n",
    "validTagTypes = {}\n",
    "outlierTagTypes = {}\n",
    "tagCountCap = 10\n",
    "\n",
    "for s in tagTypes:\n",
    "    if tagTypes[s] > tagCountCap:\n",
    "        validTagTypes[s] = tagTypes[s]\n",
    "    else:\n",
    "        outlierTagTypes[s] = tagTypes[s]\n",
    "\n",
    "outlierTagsRatio = 1 - len(validTagTypes)/float(len(tagTypes))\n",
    "print('All togethere, there are %d types of tags!' % len(tagTypes))\n",
    "print('%0.2f%% of all the Tags have less than %d instances, and the remaining %0.2f%% of Tag \\\n",
    "types have more than %d instances' % \n",
    "      (100 * outlierTagsRatio, tagCountCap, 100 * (1 - outlierTagsRatio), tagCountCap))  \n",
    "\n",
    "print\n",
    "print('For the scope of this project, to make computations tractable, we focus on Tag types with \\\n",
    "instances more than %d. The rest of the Tags would be converted to type UNKNOWN. \\\n",
    "List of Tag Types with instances more than %d is as follows:' % \n",
    "      (tagCountCap, tagCountCap))\n",
    "print\n",
    "\n",
    "# Convert outlier tags to UNKNOWN\n",
    "UNKNOWN_TAG_TYPE = 'UNKNOWN_TAG_TYPE'\n",
    "\n",
    "cleanedTagsList = [s for s in tagsList]\n",
    "\n",
    "for i in range(len(cleanedTagsList)):\n",
    "    lst = re.split(' \\| ', cleanedTagsList[i])\n",
    "    temp = []\n",
    "    for k in lst:\n",
    "        if outlierTagTypes.has_key(k):\n",
    "            temp.append(UNKNOWN_TAG_TYPE)\n",
    "        else:\n",
    "            temp.append(k)\n",
    "    \n",
    "    cleanedTagsList[i] = ' | '.join(temp)\n",
    "\n",
    "validTagTypes = None\n",
    "outlierTagTypes = None\n",
    "temp = None\n",
    "\n",
    "# print(getTagTypes(tagsList))\n",
    "cleanedTagTypes = getTagTypes(cleanedTagsList)\n",
    "print('After replacing outlier tags we have %d tags:' % len(cleanedTagTypes))\n",
    "print\n",
    "print(cleanedTagTypes)"
   ]
  },
  {
   "cell_type": "markdown",
   "metadata": {},
   "source": [
    "### Mult-hot tags order"
   ]
  },
  {
   "cell_type": "code",
   "execution_count": 29,
   "metadata": {},
   "outputs": [
    {
     "name": "stdout",
     "output_type": "stream",
     "text": [
      "\n",
      "Sorted tags for the purpose of multi-hot vector construction:\n",
      "\n",
      "['Accidental booking', 'Account', 'Activate listing', 'Additional guest fee', 'Address', 'Block calendar', 'Booking', 'Booking a trip', 'Calendar', 'Calendar availability', 'Calendar sync', 'Cancel request', 'Cancellation policy', 'Checkout time', 'Cleaning fee', 'Co-hosting', 'Coupon', 'Currency', 'Damage', 'Description', 'Duplicate account', 'Finding a place', 'Getting help', 'Getting paid', 'Guest cancellation', 'Guest onboarding', 'Guidebooks', 'Host cancellation', 'Language', 'Location', 'Manage listing', 'Managing my calendar / Blocking or unblocking calendar dates', 'Managing my calendar / Calendar settings', 'Managing my calendar / Something else', 'Messaging', 'Mobile app', 'Multi-calendar', 'My account or profile', 'Nightly price', 'Notifications', 'Other', 'Paying for my trip', 'Payouts', 'Price breakdown', 'Pricing', 'Reference', 'Referral', 'Refund', 'Review', 'Reviews', 'Search results', 'Setting availability', 'Sharing', 'Smart pricing', 'Special offer', 'Superhost', 'Taxes', 'Terms and conditions', 'Trust', 'UNKNOWN_TAG_TYPE', 'Unblock calendar', 'Verification', 'Weekly pricing']\n"
     ]
    }
   ],
   "source": [
    "sortedCleanedTagTypes = cleanedTagTypes.keys()\n",
    "\n",
    "print\n",
    "print('Sorted tags for the purpose of multi-hot vector construction:')\n",
    "print\n",
    "sortedCleanedTagTypes.sort()\n",
    "print(sortedCleanedTagTypes)"
   ]
  },
  {
   "cell_type": "markdown",
   "metadata": {},
   "source": [
    "### Identify some characteristics of feedbacks\n",
    "I noticed that sometimes:\n",
    "- Feedbacks could be empty\n",
    "- Feedbacks can have strange placeholders. Since I have not been told how to handle these placeholders, based on the count of these placeholders, I would only consider the following as valid tokens and cast other placeholders as of type *UNKONWN_TOKEN*:\n",
    "  - NAME\n",
    "  - PHONE\n",
    "  - EMAIL "
   ]
  },
  {
   "cell_type": "code",
   "execution_count": 32,
   "metadata": {},
   "outputs": [
    {
     "name": "stdout",
     "output_type": "stream",
     "text": [
      "Complete list of placeholders and their respective counts:\n",
      "\n",
      "{'NAME+SKYPE': 1, 'URL+SKYPE+SKYPE': 2, 'PHONE+SSN': 1, 'URL+NAME+NAME+NAME': 1, 'URL': 192, 'NAME+EMAIL': 7, 'URL+NAME': 3, 'URL+NAME+NAME+NAME+NAME': 1, 'SKYPE': 3, 'PHONE': 314, 'SSN': 1, 'CREDENTIAL+EMAIL+NAME+NAME+PHONE': 1, 'EMAIL+URL': 1, 'URL+SKYPE': 1, 'EMAIL+PHONE': 3, 'EMAIL': 382, 'NAME': 18723}\n",
      "\n"
     ]
    }
   ],
   "source": [
    "# identify types of placeholders\n",
    "placeholders = {}\n",
    "regex = re.compile(r'\\{\\{([^\\}]*)\\}\\}')\n",
    "for s in feedbackList:\n",
    "    lst = regex.findall(s)\n",
    "    for k in lst:\n",
    "        if not placeholders.has_key(k):\n",
    "            placeholders[k] = 1\n",
    "        else:\n",
    "            placeholders[k] = placeholders[k] + 1\n",
    "\n",
    "print('Complete list of placeholders and their respective counts:\\n')\n",
    "print(placeholders)\n",
    "\n",
    "print\n",
    "#print('A record with no feedback:')\n",
    "#print(feedbackList[8939]) # no feedback\n",
    "#print('A strange feedback with various types of placeholders:')\n",
    "#print(feedbackList[5828])"
   ]
  },
  {
   "cell_type": "markdown",
   "metadata": {},
   "source": [
    "### Tokenize feedbacks texts and create word embeddigns arrays"
   ]
  },
  {
   "cell_type": "code",
   "execution_count": 5,
   "metadata": {},
   "outputs": [
    {
     "name": "stdout",
     "output_type": "stream",
     "text": [
      "Loaded the word list!\n",
      "Loaded the word vectors!\n",
      "Word embeddings word count: 400000\n",
      "Word embeddings dimmension: (400000, 50)\n",
      "Index of \":\" in word embedding list is: 45\n"
     ]
    }
   ],
   "source": [
    "# load wordembeddings\n",
    "wordsList = np.load('wordsList.npy')\n",
    "print('Loaded the word list!')\n",
    "\n",
    "wordVectors = np.load('wordVectors.npy')\n",
    "print ('Loaded the word vectors!')\n",
    "\n",
    "wordsList = wordsList.tolist() #Originally loaded as numpy array\n",
    "wordsList = [word.decode('UTF-8') for word in wordsList] #Encode words as UTF-8\n",
    "\n",
    "print('Word embeddings word count: %d' % len(wordsList))\n",
    "print('Word embeddings dimmension: ' + str(wordVectors.shape))\n",
    "\n",
    "wordsDic = {}\n",
    "for idx, val in enumerate(wordsList):\n",
    "    wordsDic[val] = idx\n",
    "\n",
    "print('Index of \":\" in word embedding list is: %d' % wordsList.index(\":\"))"
   ]
  },
  {
   "cell_type": "code",
   "execution_count": 6,
   "metadata": {},
   "outputs": [
    {
     "data": {
      "text/plain": [
       "2"
      ]
     },
     "execution_count": 6,
     "metadata": {},
     "output_type": "execute_result"
    }
   ],
   "source": [
    "wordsDic['.']"
   ]
  },
  {
   "cell_type": "code",
   "execution_count": 7,
   "metadata": {},
   "outputs": [
    {
     "name": "stdout",
     "output_type": "stream",
     "text": [
      "Test sentence clean:\n",
      "hello ! {{name}} $ {{NUMERICAL}} m : n m % n m & n m # n m @ n m \" n m < n m / n m \\ d m - n m + n m ' n m * n {{NUMERICAL}} . {{NUMERICAL}}\n"
     ]
    }
   ],
   "source": [
    "#strip_special_chars = re.compile(\"[^A-Za-z0-9 ]+\")\n",
    "\n",
    "def cleanSentences(string):\n",
    "    string = string.lower().replace(\"\\n|\\t\", \" \")\n",
    "    string = re.sub('([.,;\"\\':!?()$&%#@*+=\\-<>/])', r' \\1 ', string)\n",
    "    string = re.sub('([\\\\\\])', r' \\1 ', string)\n",
    "    string = re.sub('\\s{2,}', ' ', string)\n",
    "    string = re.sub(r'\\d+', '{{NUMERICAL}}', string)\n",
    "    string = string.strip()\n",
    "    return string\n",
    "\n",
    "print('Test sentence clean:')\n",
    "print(cleanSentences('Hello!{{NAME}} $42 m:n m%n m&n m#n m@n m\"n m<n m/n m\\d m-n m+n m\\'n m*n 123.43'))"
   ]
  },
  {
   "cell_type": "markdown",
   "metadata": {},
   "source": [
    "### Tokenize and normalize feedbacks"
   ]
  },
  {
   "cell_type": "code",
   "execution_count": 8,
   "metadata": {},
   "outputs": [
    {
     "name": "stdout",
     "output_type": "stream",
     "text": [
      "['everything', 'is', 'awesome', '.', 'however', 'using', 'the', 'app', 'it', 'is', 'way', 'too', 'complicated', 'to', 'figure', 'out', 'how', 'to', 'write', 'a', 'review', 'or', 'read', 'reviews', 'i', 'have', 'gotten', '.', 'that', 'should', 'be', 'first', 'and', 'foremost', 'the', 'easiest', 'thing', 'to', 'do', '.']\n"
     ]
    }
   ],
   "source": [
    "cleanedFeedbacksList = [cleanSentences(s).split(' ') for s in feedbackList]\n",
    "\n",
    "print(cleanedFeedbacksList[2])"
   ]
  },
  {
   "cell_type": "code",
   "execution_count": 9,
   "metadata": {},
   "outputs": [
    {
     "name": "stdout",
     "output_type": "stream",
     "text": [
      "Histogram of feedback lengths:\n",
      "Max feedback length is 3759 and only 142 samples have length more than 400 (roughly 1.59%).\n"
     ]
    },
    {
     "data": {
      "image/png": "[encoded data removed]",
      "text/plain": [
       "<matplotlib.figure.Figure at 0x7f27146d9f90>"
      ]
     },
     "metadata": {},
     "output_type": "display_data"
    },
    {
     "data": {
      "image/png": "[encoded data removed]",
      "text/plain": [
       "<matplotlib.figure.Figure at 0x7f27119419d0>"
      ]
     },
     "metadata": {},
     "output_type": "display_data"
    }
   ],
   "source": [
    "cleanedFeedbacksLegnthList = [len(s) for s in cleanedFeedbacksList]\n",
    "print('Histogram of feedback lengths:')\n",
    "\n",
    "fig, ax = plt.subplots()\n",
    "plt.hist(cleanedFeedbacksLegnthList, bins=500)\n",
    "plt.title('Feedback Lengths List Histogram')\n",
    "plt.xlabel('Feedback Length')\n",
    "plt.ylabel('Frequency')\n",
    "\n",
    "\n",
    "fig, ax = plt.subplots()\n",
    "plt.hist(cleanedFeedbacksLegnthList, bins=500)\n",
    "plt.title('Feedback Lengths List Histogram at Logarithmic Scale')\n",
    "ax.set_yscale('log')\n",
    "plt.xlabel('Feedback Length')\n",
    "plt.ylabel('Frequency')\n",
    "\n",
    "outlierFeedbackLengthCount = 0.0\n",
    "outlierCap = 400\n",
    "for s in cleanedFeedbacksLegnthList:\n",
    "    if s > outlierCap:\n",
    "        outlierFeedbackLengthCount = outlierFeedbackLengthCount  + 1\n",
    "\n",
    "print('Max feedback length is %d and only %d samples have length more than %d (roughly %0.2f%%).' % \n",
    "      (max(cleanedFeedbacksLegnthList), outlierFeedbackLengthCount, outlierCap, \n",
    "       outlierFeedbackLengthCount/dataListLength * 100))"
   ]
  },
  {
   "cell_type": "code",
   "execution_count": 10,
   "metadata": {},
   "outputs": [
    {
     "name": "stdout",
     "output_type": "stream",
     "text": [
      "After removing these outliers, the mean feedback tokens count is 75.29 and standard deviation (std) is 66.54.\n",
      "To make this project computationally tractible,  we can take a maximum sequence length of [mean + 2*std = 208] to be used as LSTM unrolling length.  To make it eye pleasing we set maxSeqLength to 200\n"
     ]
    },
    {
     "data": {
      "image/png": "[encoded data removed]",
      "text/plain": [
       "<matplotlib.figure.Figure at 0x7f271c80bc10>"
      ]
     },
     "metadata": {},
     "output_type": "display_data"
    }
   ],
   "source": [
    "feedbackLegnthListNoOutlier = []\n",
    "for s in cleanedFeedbacksLegnthList:\n",
    "    if s < outlierCap:\n",
    "        feedbackLegnthListNoOutlier.append(s)\n",
    "\n",
    "fig, ax = plt.subplots()\n",
    "plt.hist(feedbackLegnthListNoOutlier, bins=500)\n",
    "plt.title('Feedback Lengths List Histogram with No Outliers')\n",
    "plt.xlabel('Feedback Length')\n",
    "plt.ylabel('Frequency')\n",
    "\n",
    "meanVal = np.mean(feedbackLegnthListNoOutlier)\n",
    "stdVal = np.std(feedbackLegnthListNoOutlier, axis=0)\n",
    "print('After removing these outliers, the mean feedback tokens count is %0.2f and standard deviation (std) is %0.2f.' %\n",
    "      (meanVal, stdVal))\n",
    "\n",
    "maxSeqLength = int(round(meanVal + 2 * stdVal))\n",
    "print('To make this project computationally tractible, \\\n",
    " we can take a maximum sequence length of [mean + 2*std = %d] to be used as LSTM unrolling length. \\\n",
    " To make it eye pleasing we set maxSeqLength to 200' %\n",
    "      maxSeqLength)\n",
    "\n",
    "maxSeqLength = 200\n",
    "\n",
    "# cleanup memory\n",
    "feedbackLegnthListNoOutlier = None\n",
    "cleanedFeedbacksLegnthList = None"
   ]
  },
  {
   "cell_type": "markdown",
   "metadata": {},
   "source": [
    "### Convert tokens to wordembedding indexes"
   ]
  },
  {
   "cell_type": "code",
   "execution_count": 11,
   "metadata": {},
   "outputs": [
    {
     "name": "stdout",
     "output_type": "stream",
     "text": [
      "<type 'numpy.ndarray'>\n",
      "(8949, 200)\n"
     ]
    }
   ],
   "source": [
    "# feedback wordembedding indexes\n",
    "# padding is set to zero\n",
    "ids = np.zeros((len(cleanedFeedbacksList), maxSeqLength), dtype='int32')\n",
    "for i, tokens in enumerate(cleanedFeedbacksList):\n",
    "    indexCounter = 0\n",
    "\n",
    "    for token in tokens:\n",
    "        if wordsDic.has_key(token):\n",
    "            ids[i][indexCounter] = wordsDic[token]\n",
    "        else:\n",
    "            ids[i][indexCounter] = wordsDic['unk'] # 399999 index of unknown words\n",
    "        \n",
    "        indexCounter = indexCounter + 1\n",
    "        if indexCounter == maxSeqLength:\n",
    "            break # chop long stories according to mean + 2 * std \n",
    "\n",
    "print(type(ids))\n",
    "print(ids.shape)"
   ]
  },
  {
   "cell_type": "code",
   "execution_count": 12,
   "metadata": {},
   "outputs": [
    {
     "name": "stdout",
     "output_type": "stream",
     "text": [
      "[  1174     14  13602      2    212    622 201534  14672     20     14\n",
      "    179    317   4677      4   1265     66    197      4   2432      7\n",
      "   1287     46   1465   3689     41     33   5042      2     12    189\n",
      "     30     58      5  11432 201534  17268    873      4     88      2\n",
      "      0      0      0      0      0      0      0      0      0      0\n",
      "      0      0      0      0      0      0      0      0      0      0\n",
      "      0      0      0      0      0      0      0      0      0      0\n",
      "      0      0      0      0      0      0      0      0      0      0\n",
      "      0      0      0      0      0      0      0      0      0      0\n",
      "      0      0      0      0      0      0      0      0      0      0\n",
      "      0      0      0      0      0      0      0      0      0      0\n",
      "      0      0      0      0      0      0      0      0      0      0\n",
      "      0      0      0      0      0      0      0      0      0      0\n",
      "      0      0      0      0      0      0      0      0      0      0\n",
      "      0      0      0      0      0      0      0      0      0      0\n",
      "      0      0      0      0      0      0      0      0      0      0\n",
      "      0      0      0      0      0      0      0      0      0      0\n",
      "      0      0      0      0      0      0      0      0      0      0\n",
      "      0      0      0      0      0      0      0      0      0      0\n",
      "      0      0      0      0      0      0      0      0      0      0]\n",
      "everything\n",
      "is\n",
      "awesome\n",
      ".\n"
     ]
    }
   ],
   "source": [
    "# test correct indexing from wordembeddings and 'Everything is awesome.'!\n",
    "print(ids[2])\n",
    "print(wordsList[1174])\n",
    "print(wordsList[14])\n",
    "print(wordsList[13602])\n",
    "print(wordsList[2])"
   ]
  },
  {
   "cell_type": "markdown",
   "metadata": {},
   "source": [
    "### Get train/validation/test sets"
   ]
  },
  {
   "cell_type": "code",
   "execution_count": 16,
   "metadata": {},
   "outputs": [],
   "source": [
    "from sklearn.model_selection import train_test_split\n",
    "# Create train/test/validation splits\n",
    "X_train, X_test, y_train, y_test = train_test_split(ids, cleanedTagsList, test_size=0.2, random_state=1)\n",
    "\n",
    "X_train, X_val, y_train, y_val = train_test_split(X_train, y_train, test_size=0.2, random_state=1)"
   ]
  },
  {
   "cell_type": "code",
   "execution_count": 21,
   "metadata": {},
   "outputs": [
    {
     "name": "stdout",
     "output_type": "stream",
     "text": [
      "[ 11083  14663 373910      1     41   3476 217470   3814    674    192\n",
      "   1306 399999    517    363      1     34   6174     47  93325   1650\n",
      "      6    198      2     61     41   2375 201534   3099     63     14\n",
      "     84     48   1139    192   1306      2  14663   9215    738      1\n",
      "     86     81   3832    275    285      2      5     61     69   1712\n",
      "     10 201534   2858     41  46768    346    102      4    455   3814\n",
      "    111      4    169     20      2   3124     10    392    275      2\n",
      "    254   9481      1 399999      0      0      0      0      0      0\n",
      "      0      0      0      0      0      0      0      0      0      0\n",
      "      0      0      0      0      0      0      0      0      0      0\n",
      "      0      0      0      0      0      0      0      0      0      0\n",
      "      0      0      0      0      0      0      0      0      0      0\n",
      "      0      0      0      0      0      0      0      0      0      0\n",
      "      0      0      0      0      0      0      0      0      0      0\n",
      "      0      0      0      0      0      0      0      0      0      0\n",
      "      0      0      0      0      0      0      0      0      0      0\n",
      "      0      0      0      0      0      0      0      0      0      0\n",
      "      0      0      0      0      0      0      0      0      0      0\n",
      "      0      0      0      0      0      0      0      0      0      0\n",
      "      0      0      0      0      0      0      0      0      0      0]\n",
      "hi\n",
      "im\n",
      "febi\n",
      ",\n",
      "i\n",
      "Superhost | Multi-calendar | Reference | Sharing | Search results | Refund\n"
     ]
    }
   ],
   "source": [
    "# test splitting and randomization preserves proper tokens and relevant tags\n",
    "print(X_test[1])\n",
    "print(wordsList[11083])\n",
    "print(wordsList[14663])\n",
    "print(wordsList[373910])\n",
    "print(wordsList[1])\n",
    "print(wordsList[41])\n",
    "print(y_test[1])"
   ]
  },
  {
   "cell_type": "markdown",
   "metadata": {},
   "source": [
    "### Create multi-hot vectors"
   ]
  },
  {
   "cell_type": "code",
   "execution_count": 37,
   "metadata": {},
   "outputs": [],
   "source": [
    "def tagToMultiHot(y):\n",
    "    multiHotArr = np.zeros((len(y), len(sortedCleanedTagTypes)), dtype='int32')\n",
    "\n",
    "    for idx, val in enumerate(y):\n",
    "        tempTagsList = val.split(' | ')\n",
    "        for tempTag in tempTagsList:\n",
    "            multiHotArr[idx][sortedCleanedTagTypes.index(tempTag)] = 1\n",
    "    \n",
    "    return multiHotArr\n",
    "\n",
    "\n",
    "y_train_multihot = tagToMultiHot(y_train)    \n",
    "y_test_multihot = tagToMultiHot(y_test)\n",
    "\n",
    "y_valid_multihot = tagToMultiHot(y_valid)    \n",
    "y_valid_multihot = tagToMultiHot(y_valid)\n",
    "\n",
    "y_test_multihot = tagToMultiHot(y_test)    \n",
    "y_test_multihot = tagToMultiHot(y_test)\n",
    "\n",
    "\n"
   ]
  },
  {
   "cell_type": "code",
   "execution_count": 39,
   "metadata": {},
   "outputs": [
    {
     "name": "stdout",
     "output_type": "stream",
     "text": [
      "<type 'numpy.ndarray'>\n",
      "(1790, 63)\n",
      "[0 0 0 0 0 0 0 0 0 0 0 0 0 0 0 0 0 0 0 0 0 0 0 0 0 0 0 0 0 0 0 0 0 0 0 0 1\n",
      " 0 0 0 0 0 0 0 0 1 0 1 0 0 1 0 1 0 0 1 0 0 0 0 0 0 0]\n"
     ]
    }
   ],
   "source": [
    "print(type(y_test_multihot))\n",
    "print(y_test_multihot.shape)\n",
    "\n",
    "# ensure multi-hotting is done right: superhost, sharing, search results,...\n",
    "print(y_test_multihot[1])"
   ]
  },
  {
   "cell_type": "markdown",
   "metadata": {},
   "source": [
    "### Next step\n",
    "Now we have word indexes and multi hot, should be able to plu into model and let lookup tab;e look it up and run https://stackoverflow.com/a/39472895"
   ]
  },
  {
   "cell_type": "code",
   "execution_count": null,
   "metadata": {
    "collapsed": true
   },
   "outputs": [],
   "source": []
  }
 ],
 "metadata": {
  "kernelspec": {
   "display_name": "Python 2",
   "language": "python",
   "name": "python2"
  },
  "language_info": {
   "codemirror_mode": {
    "name": "ipython",
    "version": 2
   },
   "file_extension": ".py",
   "mimetype": "text/x-python",
   "name": "python",
   "nbconvert_exporter": "python",
   "pygments_lexer": "ipython2",
   "version": "2.7.12"
  }
 },
 "nbformat": 4,
 "nbformat_minor": 2
}
