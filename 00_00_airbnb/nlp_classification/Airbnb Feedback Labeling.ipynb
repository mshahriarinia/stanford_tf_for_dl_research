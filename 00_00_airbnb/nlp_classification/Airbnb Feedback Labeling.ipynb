{
 "cells": [
  {
   "cell_type": "markdown",
   "metadata": {},
   "source": [
    "\n",
    "### hints\n",
    "- multi-labeling\n",
    "- self normalizing networks\n",
    "- early stopping\n",
    "- Calibration buckets\n",
    "- use tags's title's word embeddigns as input signal\n",
    "\n",
    "## Tasks\n",
    "- Run an analysis on the dataset and provide descriptive statistics for the data\n",
    "- Perform data cleaning, selection and splitting if needed\n",
    "- Build one or more models to tag a new feedback with a relevant tag or tags using only feedback text\n",
    "- Show how you evaluate, compare and improve your models\n",
    "- Identify if using other features (provided in the dataset) in combination with the feedback text is helpful\n",
    "- Identify howyou would use your model and findings to improve Airbnb's feedback module by writing out specific recommendations\n"
   ]
  },
  {
   "cell_type": "markdown",
   "metadata": {},
   "source": [
    "# Airbnb Feedback Labeling\n",
    "\n",
    "## Problem statement\n",
    "Airbnb has a platform for taking feedback from its users (https://www.airbnb.com/help/feedback). Identifying the proper team that should handle each feedback is cruicial in sustaining customers and organic user growth. Given a feedback statement and some other features, we would like to identify the associated team."
   ]
  },
  {
   "cell_type": "markdown",
   "metadata": {},
   "source": [
    "## Understanding the Data\n"
   ]
  },
  {
   "cell_type": "code",
   "execution_count": 1,
   "metadata": {
    "collapsed": true
   },
   "outputs": [],
   "source": [
    "# imports and constants\n",
    "%matplotlib inline  \n",
    "\n",
    "import csv\n",
    "import matplotlib.pyplot as plt\n",
    "import numpy as np\n",
    "import re"
   ]
  },
  {
   "cell_type": "markdown",
   "metadata": {},
   "source": [
    "### Load the dataset"
   ]
  },
  {
   "cell_type": "code",
   "execution_count": 2,
   "metadata": {},
   "outputs": [
    {
     "name": "stdout",
     "output_type": "stream",
     "text": [
      "There is a total of 8949 records in this dataset.\n"
     ]
    }
   ],
   "source": [
    "with open('NLP_TakeHome_Feedbacks.csv', 'rb') as csvfile:\n",
    "    csvReader = csv.reader(csvfile, delimiter=',', quotechar='\"')\n",
    "    dataList = list(csvReader)\n",
    "\n",
    "reqUserAgentList = []\n",
    "countryList = []\n",
    "isAppOrWebList = []\n",
    "deviceTypeList = []\n",
    "dsList = []\n",
    "tagsList = []\n",
    "feedbackList = []\n",
    "\n",
    "for i in range(1, len(dataList)):\n",
    "    # skip record id field\n",
    "    reqUserAgentList.append(dataList[i][1])\n",
    "    countryList.append(dataList[i][2])\n",
    "    isAppOrWebList.append(dataList[i][3])\n",
    "    deviceTypeList.append(dataList[i][4])\n",
    "    dsList.append(dataList[i][5])\n",
    "    tagsList.append(dataList[i][6])\n",
    "    feedbackList.append(dataList[i][7])\n",
    "\n",
    "dataListLength = len(dataList) - 1 # skipped header row\n",
    "print('There is a total of ' + str(dataListLength) + ' records in this dataset.')"
   ]
  },
  {
   "cell_type": "markdown",
   "metadata": {},
   "source": [
    "### Identify types of tags"
   ]
  },
  {
   "cell_type": "code",
   "execution_count": 3,
   "metadata": {},
   "outputs": [
    {
     "name": "stdout",
     "output_type": "stream",
     "text": [
      "All togethere, there are 621 types of tags!\n",
      "90.02% of all the Tags have less than 10 instances, and the remaining 9.98% of Tag types have more than 10 instances\n",
      "\n",
      "For the scope of this project, to make computations tractable, we focus on Tag types with instances more than 10. The rest of the Tags would be converted to type UNKNOWN. List of Tag Types with instances more than 10 is as follows:\n",
      "\n",
      "{'Block calendar': 71, 'Calendar availability': 238, 'Guest cancellation': 224, 'Terms and conditions': 146, 'Review': 771, 'Manage listing': 228, 'Finding a place': 29, 'Damage': 208, 'Managing my calendar / Calendar settings': 17, 'Co-hosting': 45, 'Paying for my trip': 21, 'Other': 18, 'Location': 160, 'Special offer': 99, 'Multi-calendar': 46, 'My account or profile': 27, 'Mobile app': 730, 'Booking': 1003, 'Activate listing': 191, 'Search results': 254, 'Sharing': 143, 'Nightly price': 159, 'Getting paid': 27, 'Guest onboarding': 126, 'Calendar sync': 44, 'Host cancellation': 457, 'Cancel request': 476, 'Notifications': 191, 'Managing my calendar / Blocking or unblocking calendar dates': 36, 'Booking a trip': 18, 'Address': 100, 'UNKNOWN_TAG_TYPE': 685, 'Superhost': 151, 'Account': 383, 'Guidebooks': 38, 'Language': 57, 'Additional guest fee': 130, 'Smart pricing': 174, 'Price breakdown': 131, 'Checkout time': 23, 'Taxes': 77, 'Cleaning fee': 80, 'Reviews': 59, 'Duplicate account': 79, 'Weekly pricing': 58, 'Accidental booking': 116, 'Messaging': 244, 'Referral': 125, 'Unblock calendar': 110, 'Description': 135, 'Refund': 675, 'Managing my calendar / Something else': 58, 'Payouts': 290, 'Reference': 116, 'Coupon': 229, 'Getting help': 593, 'Currency': 123, 'Cancellation policy': 365, 'Pricing': 339, 'Setting availability': 238, 'Calendar': 138, 'Trust': 458, 'Verification': 456}\n"
     ]
    }
   ],
   "source": [
    "tagTypes = {}\n",
    "regex = re.compile(r'\\{\\{([^\\}]*)\\}\\}')\n",
    "\n",
    "def getTagTypes(tagsList):\n",
    "    tagTypes = {}\n",
    "    for s in tagsList:\n",
    "        lst = re.split(' \\| ', s)\n",
    "        for k in lst:\n",
    "            if not tagTypes.has_key(k):\n",
    "                tagTypes[k] = 1\n",
    "            else:\n",
    "                tagTypes[k] = tagTypes[k] + 1\n",
    "    return tagTypes\n",
    "\n",
    "tagTypes = getTagTypes(tagsList)\n",
    "\n",
    "validTagTypes = {}\n",
    "outlierTagTypes = {}\n",
    "tagCountCap = 10\n",
    "\n",
    "for s in tagTypes:\n",
    "    if tagTypes[s] > tagCountCap:\n",
    "        validTagTypes[s] = tagTypes[s]\n",
    "    else:\n",
    "        outlierTagTypes[s] = tagTypes[s]\n",
    "\n",
    "outlierTagsRatio = 1 - len(validTagTypes)/float(len(tagTypes))\n",
    "print('All togethere, there are %d types of tags!' % len(tagTypes))\n",
    "print('%0.2f%% of all the Tags have less than %d instances, and the remaining %0.2f%% of Tag \\\n",
    "types have more than %d instances' % \n",
    "      (100 * outlierTagsRatio, tagCountCap, 100 * (1 - outlierTagsRatio), tagCountCap))  \n",
    "\n",
    "print\n",
    "print('For the scope of this project, to make computations tractable, we focus on Tag types with \\\n",
    "instances more than %d. The rest of the Tags would be converted to type UNKNOWN. \\\n",
    "List of Tag Types with instances more than %d is as follows:' % \n",
    "      (tagCountCap, tagCountCap))\n",
    "print\n",
    "\n",
    "# Convert outlier tags to UNKNOWN\n",
    "UNKNOWN_TAG_TYPE = 'UNKNOWN_TAG_TYPE'\n",
    "\n",
    "cleanedTagsList = [s for s in tagsList]\n",
    "\n",
    "for i in range(len(cleanedTagsList)):\n",
    "    lst = re.split(' \\| ', cleanedTagsList[i])\n",
    "    cleanedTags = []\n",
    "    for k in lst:\n",
    "        if outlierTagTypes.has_key(k):\n",
    "            cleanedTags.append(UNKNOWN_TAG_TYPE)\n",
    "        else:\n",
    "            cleanedTags.append(k)\n",
    "    \n",
    "    cleanedTagsList[i] = ' | '.join(cleanedTags)\n",
    "\n",
    "validTagTypes = None\n",
    "outlierTagTypes = None\n",
    "\n",
    "# print(getTagTypes(tagsList))\n",
    "print(getTagTypes(cleanedTagsList))"
   ]
  },
  {
   "cell_type": "markdown",
   "metadata": {},
   "source": [
    "### Identify some characteristics of feedbacks\n",
    "I noticed that sometimes:\n",
    "- Feedbacks could be empty\n",
    "- Feedbacks can have strange placeholders. Since I have not been told how to handle these placeholders, based on the count of these placeholders, I would only consider the following as valid tokens and cast other placeholders as of type *UNKONWN_TOKEN*:\n",
    "  - NAME\n",
    "  - PHONE\n",
    "  - EMAIL "
   ]
  },
  {
   "cell_type": "code",
   "execution_count": 4,
   "metadata": {},
   "outputs": [
    {
     "name": "stdout",
     "output_type": "stream",
     "text": [
      "Complete list of placeholders and their respective counts:\n",
      "\n",
      "{'NAME+SKYPE': 1, 'URL+SKYPE+SKYPE': 2, 'PHONE+SSN': 1, 'URL+NAME+NAME+NAME': 1, 'URL': 192, 'NAME+EMAIL': 7, 'URL+NAME': 3, 'URL+NAME+NAME+NAME+NAME': 1, 'SKYPE': 3, 'PHONE': 314, 'SSN': 1, 'CREDENTIAL+EMAIL+NAME+NAME+PHONE': 1, 'EMAIL+URL': 1, 'URL+SKYPE': 1, 'EMAIL+PHONE': 3, 'EMAIL': 382, 'NAME': 18723}\n",
      "\n",
      "A record with no feedback:\n",
      "\n",
      "A strange feedback with various types of placeholders:\n",
      "Colleagues,   I can�۪t find a method for calling you so I�۪ll try here. You were very helpful last {{NAME}} and maybe you can pull it off again.  I have a 43-foot boat in a slip in {{NAME}} {{NAME}}. We had a very nice response to putting a listing up, but we�۪ve now learned from the marina that the {{NAME}} {{NAME}} of {{NAME}} {{NAME}} has forbidden AirBnB boat rentals anywhere in the waters of {{NAME}} {{NAME}} {{NAME}}.   Hmm. {{NAME}}. Do you have any advice?  Thanks, {{NAME}} ____________________________________ {{NAME}} {{NAME}}, MD, MDM, FACP {{NAME}}, {{NAME+SKYPE}} {{NAME}} {{NAME}} {{URL+SKYPE}}  {{SKYPE}}@{{SKYPE}} {{PHONE}} {{NAME}} {{SKYPE}} on Skype {{URL+SKYPE+SKYPE}} {{URL+SKYPE+SKYPE}} _____________________________________\n"
     ]
    }
   ],
   "source": [
    "# identify types of placeholders\n",
    "placeholders = {}\n",
    "regex = re.compile(r'\\{\\{([^\\}]*)\\}\\}')\n",
    "for s in feedbackList:\n",
    "    lst = regex.findall(s)\n",
    "    for k in lst:\n",
    "        if not placeholders.has_key(k):\n",
    "            placeholders[k] = 1\n",
    "        else:\n",
    "            placeholders[k] = placeholders[k] + 1\n",
    "\n",
    "print('Complete list of placeholders and their respective counts:\\n')\n",
    "print(placeholders)\n",
    "\n",
    "print\n",
    "print('A record with no feedback:')\n",
    "print(feedbackList[8939]) # no feedback\n",
    "print('A strange feedback with various types of placeholders:')\n",
    "print(feedbackList[5828])"
   ]
  },
  {
   "cell_type": "markdown",
   "metadata": {},
   "source": [
    "### Tokenize feedbacks texts and create word embeddigns arrays"
   ]
  },
  {
   "cell_type": "code",
   "execution_count": 5,
   "metadata": {},
   "outputs": [
    {
     "name": "stdout",
     "output_type": "stream",
     "text": [
      "Loaded the word list!\n",
      "Loaded the word vectors!\n",
      "Word embeddings word count: 400000\n",
      "Word embeddings dimmension: (400000, 50)\n"
     ]
    }
   ],
   "source": [
    "# load wordembeddings\n",
    "wordsList = np.load('wordsList.npy')\n",
    "print('Loaded the word list!')\n",
    "\n",
    "wordVectors = np.load('wordVectors.npy')\n",
    "print ('Loaded the word vectors!')\n",
    "\n",
    "wordsList = wordsList.tolist() #Originally loaded as numpy array\n",
    "wordsList = [word.decode('UTF-8') for word in wordsList] #Encode words as UTF-8\n",
    "\n",
    "print('Word embeddings word count: %d' % len(wordsList))\n",
    "print('Word embeddings dimmension: ' + str(wordVectors.shape))"
   ]
  },
  {
   "cell_type": "code",
   "execution_count": null,
   "metadata": {
    "collapsed": true
   },
   "outputs": [],
   "source": []
  },
  {
   "cell_type": "code",
   "execution_count": null,
   "metadata": {
    "collapsed": true
   },
   "outputs": [],
   "source": [
    "feedbackLegnthList = [len(s) for s in feedbackList]\n",
    "print('Histogram of feedback lengths:')\n",
    "\n",
    "fig, ax = plt.subplots()\n",
    "plt.hist(feedbackLegnthList, bins=500)\n",
    "plt.title('Feedback Lengths List Histogram')\n",
    "plt.xlabel('Feedback Length')\n",
    "plt.ylabel('Frequency')\n",
    "\n",
    "\n",
    "fig, ax = plt.subplots()\n",
    "plt.hist(feedbackLegnthList, bins=500)\n",
    "plt.title('Feedback Lengths List Histogram at Logarithmic Scale')\n",
    "ax.set_yscale('log')\n",
    "plt.xlabel('Feedback Length')\n",
    "plt.ylabel('Frequency')\n",
    "\n",
    "outlierFeedbackLengthCount = 0.0\n",
    "outlierCap = 2000\n",
    "for s in feedbackLegnthList:\n",
    "    if s > outlierCap:\n",
    "        outlierFeedbackLengthCount = outlierFeedbackLengthCount  + 1\n",
    "\n",
    "print('Max feedback length is %d and only %d samples have length more than %d (roughly %0.2f%%).' % \n",
    "      (max(feedbackLegnthList), outlierFeedbackLengthCount, outlierCap, outlierFeedbackLengthCount/dataListLength * 100))"
   ]
  },
  {
   "cell_type": "code",
   "execution_count": null,
   "metadata": {
    "collapsed": true
   },
   "outputs": [],
   "source": [
    "feedbackLegnthListNoOutlier = []\n",
    "for s in feedbackLegnthList:\n",
    "    if s < outlierCap:\n",
    "        feedbackLegnthListNoOutlier.append(s)\n",
    "\n",
    "fig, ax = plt.subplots()\n",
    "plt.hist(feedbackLegnthListNoOutlier, bins=500)\n",
    "plt.title('Feedback Lengths List Histogram with No Outliers')\n",
    "plt.xlabel('Feedback Length')\n",
    "plt.ylabel('Frequency')\n",
    "\n",
    "meanFeedbackLengthWithNoOutliers = sum(feedbackLegnthListNoOutlier) / float(len(feedbackLegnthListNoOutlier))\n",
    "print('After removing these outliers, the mean feedback length is %0.2f' %\n",
    "      meanFeedbackLengthWithNoOutliers)\n",
    "\n",
    "lstmLength = int(round(meanFeedbackLengthWithNoOutliers))\n",
    "print('To make this project computationally tractible,'+\n",
    "      ' we take a maximum sequence length of %d to be used as LSTM unrolling length.' %\n",
    "      lstmLength)"
   ]
  },
  {
   "cell_type": "code",
   "execution_count": null,
   "metadata": {
    "collapsed": true
   },
   "outputs": [],
   "source": [
    "\n",
    "longestFeedback = ''\n",
    "longestFeedbackLength = 0\n",
    "\n",
    "# identify longest feedback\n",
    "for feedback in feedbackList:\n",
    "    feedbackLength = len(feedback)\n",
    "    feedbackLegnthList.append(feedbackLength)\n",
    "    if(feedbackLength > longestFeedbackLength):\n",
    "        longestFeedback = feedback\n",
    "        longestFeedbackLength = feedbackLength\n",
    "        \n"
   ]
  },
  {
   "cell_type": "code",
   "execution_count": null,
   "metadata": {
    "collapsed": true
   },
   "outputs": [],
   "source": [
    "from collections import Counter\n",
    "a = ['a', 'a', 'a', 'a', 'b', 'b', 'c', 'c', 'c', 'd', 'e', 'e', 'e', 'e', 'e']\n",
    "letter_counts = Counter(a)\n",
    "df = pandas.DataFrame.from_dict(letter_counts, orient='index')\n",
    "df.plot(kind='bar')"
   ]
  },
  {
   "cell_type": "code",
   "execution_count": null,
   "metadata": {
    "collapsed": true
   },
   "outputs": [],
   "source": []
  }
 ],
 "metadata": {
  "kernelspec": {
   "display_name": "Python 2",
   "language": "python",
   "name": "python2"
  },
  "language_info": {
   "codemirror_mode": {
    "name": "ipython",
    "version": 2
   },
   "file_extension": ".py",
   "mimetype": "text/x-python",
   "name": "python",
   "nbconvert_exporter": "python",
   "pygments_lexer": "ipython2",
   "version": "2.7.12"
  }
 },
 "nbformat": 4,
 "nbformat_minor": 2
}
