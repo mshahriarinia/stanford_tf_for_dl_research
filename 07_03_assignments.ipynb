{
 "cells": [
  {
   "cell_type": "markdown",
   "metadata": {},
   "source": [
    "# Style Transfer\n",
    "\n",
    "## Deep Dream\n",
    "Take an image, pass it through multiple layers of an image classification model which is prtrained on imagenet (e.g. inception). final layers of these networks are great at capturing imherent and abstract features of images. \n",
    "\n",
    "1. Feed the image through these layers\n",
    "2. Take the output of one of the final layers\n",
    "3. Calculate its gradient (w.r.t.) on the initial input variable (input image)\n",
    "4. __Gradient Ascent!:__ It calculates the gradient of the given layer of the Inception model with regard to the input image. The gradient is then added to the input image so the mean value of the layer-tensor is increased. This process is repeated a number of times and amplifies whatever patterns the Inception model sees in the input image. ([Awesome Youtube Video](https://www.youtube.com/watch?v=ws-ZbiFV1Ms). and its [python notebook](https://github.com/Hvass-Labs/TensorFlow-Tutorials/blob/master/14_DeepDream.ipynb)). Basically it magnifies the gradients (textures) while preserving colors, hence gradient ascent!\n",
    "\n",
    "## Style Transfer\n",
    "Weighted combination of the result of Deep dream of two images.\n",
    "\n",
    "1. mean-squared-error between content image and random image to make them look like each other\n",
    "2. calculate the gradient ascent of style image but add it to random image.\n",
    "\n",
    "image gets the gradients from one image, colors from another image!"
   ]
  },
  {
   "cell_type": "code",
   "execution_count": null,
   "metadata": {
    "collapsed": true
   },
   "outputs": [],
   "source": []
  }
 ],
 "metadata": {
  "kernelspec": {
   "display_name": "Python 2",
   "language": "python",
   "name": "python2"
  },
  "language_info": {
   "codemirror_mode": {
    "name": "ipython",
    "version": 2
   },
   "file_extension": ".py",
   "mimetype": "text/x-python",
   "name": "python",
   "nbconvert_exporter": "python",
   "pygments_lexer": "ipython2",
   "version": "2.7.12"
  }
 },
 "nbformat": 4,
 "nbformat_minor": 2
}
