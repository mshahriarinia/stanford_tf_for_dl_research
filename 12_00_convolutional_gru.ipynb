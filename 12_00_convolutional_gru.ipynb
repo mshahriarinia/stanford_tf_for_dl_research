{
 "cells": [
  {
   "cell_type": "markdown",
   "metadata": {},
   "source": [
    "## Notes\n",
    "\n",
    "### Tricks of the Trade\n",
    "\n",
    "Curriculum learning.\n",
    "- Start training on small lengths, increase when learned.\n",
    "\n",
    "Parameter sharing relaxation.\n",
    "- Allow to do different things in different time-steps first.\n",
    "- Not needed now with bigger models and orthogonal init.\n",
    "\n",
    "Dropout on recurrent connections.\n",
    "- Randomly set 10% of state vectors to 0 in each step.\n",
    "- Interestingly, this is key for good length generalization.\n",
    "\n",
    "Noise added to gradients.\n",
    "- Add small gaussian noise to gradients in each training step.\n",
    "\n",
    "Gate cutoff (saturation).\n",
    "- Instead of sigmoid(x) use [1.2sigmoid(x) - 0.1][0,1].\n",
    "\n",
    "Tune parameters. Tune, tune, tune.\n",
    "- A lot of GPUs running for a few months; or: better method!"
   ]
  },
  {
   "cell_type": "markdown",
   "metadata": {},
   "source": [
    "### How to code this?\n",
    "Is the graph static or dynamic?\n",
    "- Dynamic ops were not exposed in first TF release, tricky.\n",
    "- Static graph requires bucketing and takes long to build.\n",
    "- Focus: why conditionals are tricky: batches and lambdas.\n",
    "\n",
    "How do we do bucketing?\n",
    "- Sparse or dense buckets? Masks are bug-prone.\n",
    "- How do we bucket training data? Feed or queues?\n",
    "- If queues, how to do curriculum? How to not starve?\n",
    "\n",
    "How do we write layers?\n",
    "- Is there a canonical way to define new functions?\n",
    "- Frameworks: Keras vs Slim (OO vs functional)\n",
    "- Unification in tf.layers: callable objects save scope.\n",
    "- Example: weight-normalization through custom_getter.\n",
    "\n",
    "How do we organize experiments?\n",
    "- Use tf.learn, Estimator, Experiment.\n",
    "- How to registering models and problems? Save runs?\n",
    "- Hyper-parameters manual or tuned with ranges?"
   ]
  },
  {
   "cell_type": "code",
   "execution_count": null,
   "metadata": {
    "collapsed": true
   },
   "outputs": [],
   "source": []
  }
 ],
 "metadata": {
  "kernelspec": {
   "display_name": "Python 2",
   "language": "python",
   "name": "python2"
  },
  "language_info": {
   "codemirror_mode": {
    "name": "ipython",
    "version": 2
   },
   "file_extension": ".py",
   "mimetype": "text/x-python",
   "name": "python",
   "nbconvert_exporter": "python",
   "pygments_lexer": "ipython2",
   "version": "2.7.12"
  }
 },
 "nbformat": 4,
 "nbformat_minor": 2
}
